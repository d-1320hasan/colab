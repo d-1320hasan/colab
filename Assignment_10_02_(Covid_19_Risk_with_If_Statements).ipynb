{
  "nbformat": 4,
  "nbformat_minor": 0,
  "metadata": {
    "colab": {
      "name": "Assignment - 10/02 (Covid-19 Risk with If Statements)",
      "provenance": [],
      "authorship_tag": "ABX9TyN5OZ92h8qPyViulQLAhell",
      "include_colab_link": true
    },
    "kernelspec": {
      "name": "python3",
      "display_name": "Python 3"
    },
    "language_info": {
      "name": "python"
    }
  },
  "cells": [
    {
      "cell_type": "markdown",
      "metadata": {
        "id": "view-in-github",
        "colab_type": "text"
      },
      "source": [
        "<a href=\"https://colab.research.google.com/github/d-1320hasan/colab/blob/main/Assignment_10_02_(Covid_19_Risk_with_If_Statements).ipynb\" target=\"_parent\"><img src=\"https://colab.research.google.com/assets/colab-badge.svg\" alt=\"Open In Colab\"/></a>"
      ]
    },
    {
      "cell_type": "code",
      "metadata": {
        "id": "W4rY7eUwCwl5"
      },
      "source": [
        "age = input(\"Are you a cigarette addict older than 75 years old? yes or no\")\n",
        "chronic = input(\"Do you have a severe chronic disease? yes or no\")\n",
        "immune = input(\"Are you a cigarette addict older than 75 years old? yes or no\")\n",
        "if age == \"yes\" or chronic == \"yes\" or nimmune == \"yes\":\n",
        "  print(\"You are in risky group\")\n",
        "else:\n",
        "  print(\"You are not in risky group\")  "
      ],
      "execution_count": null,
      "outputs": []
    }
  ]
}