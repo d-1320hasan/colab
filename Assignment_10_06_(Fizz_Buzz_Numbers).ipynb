{
  "nbformat": 4,
  "nbformat_minor": 0,
  "metadata": {
    "colab": {
      "name": "Assignment - 10/06 (Fizz - Buzz Numbers)",
      "provenance": [],
      "authorship_tag": "ABX9TyNS9yjw2Xl3vuNM/RLdjQT5",
      "include_colab_link": true
    },
    "kernelspec": {
      "name": "python3",
      "display_name": "Python 3"
    },
    "language_info": {
      "name": "python"
    }
  },
  "cells": [
    {
      "cell_type": "markdown",
      "metadata": {
        "id": "view-in-github",
        "colab_type": "text"
      },
      "source": [
        "<a href=\"https://colab.research.google.com/github/d-1320hasan/python-assignments/blob/main/Assignment_10_06_(Fizz_Buzz_Numbers).ipynb\" target=\"_parent\"><img src=\"https://colab.research.google.com/assets/colab-badge.svg\" alt=\"Open In Colab\"/></a>"
      ]
    },
    {
      "cell_type": "markdown",
      "metadata": {
        "id": "mQWAYT8M7ods"
      },
      "source": [
        "Görev : Fizz Buzz numaralarını yazdırın. Fizz Buzz, temel programlama becerilerini test etmek için röportajlarda kullanılan ünlü bir kod mücadelesidir. Kendi uygulamanızı yazmanın zamanı geldi. 1'den 100'e kadar olan sayıları şu yönergeleri izleyerek yazdırın: bir sayı 3'ün katıysa, bu sayı yerine 'Fizz' yazın, sayı 5'in katıysa, katları olan sayılar için bu sayı yerine 'Buzz' yazın hem 3 hem de 5'ten 'FizzBuzz' yazdırın, kalan sayıları değiştirmeden yazdırın. Her değeri ayrı bir satırda çıktılayın. Not: Bu soru internette meşhurdur, bu yüzden bu ödevden daha fazla yararlanmak için bu görevi kendi başınıza tamamlamaya çalışın."
      ]
    },
    {
      "cell_type": "code",
      "metadata": {
        "id": "E3wO-ajq704Y"
      },
      "source": [
        "for i in range(1,101):\n",
        "  if i%3==0 and i%5==0:\n",
        "    print(\"FizzBuzz\")\n",
        "  elif i%3==0:\n",
        "    print(\"Fizz\")\n",
        "  elif i%5 == 0:\n",
        "    print(\"Buzz\")\n",
        "  else:\n",
        "    print(i)"
      ],
      "execution_count": null,
      "outputs": []
    }
  ]
}