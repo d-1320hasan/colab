{
  "nbformat": 4,
  "nbformat_minor": 0,
  "metadata": {
    "colab": {
      "name": "Ödev - 10/05 (Fibonacci Sayıları)",
      "provenance": [],
      "collapsed_sections": []
    },
    "kernelspec": {
      "name": "python3",
      "display_name": "Python 3"
    },
    "language_info": {
      "name": "python"
    }
  },
  "cells": [
    {
      "cell_type": "code",
      "metadata": {
        "colab": {
          "base_uri": "https://localhost:8080/"
        },
        "id": "DK3kuMGI1Wma",
        "outputId": "f9c07823-79ac-4ca6-d61d-b1f592c9d192"
      },
      "source": [
        "liste = [0,1]\n",
        "for i in range(55):\n",
        "  sayı= liste[-1] +liste[-2]\n",
        "  if sayı>55:\n",
        "   break\n",
        "  else:\n",
        "      liste.append(sayı)\n",
        "print(liste)\n",
        "\n"
      ],
      "execution_count": 20,
      "outputs": [
        {
          "output_type": "stream",
          "name": "stdout",
          "text": [
            "[0, 1, 1, 2, 3, 5, 8, 13, 21, 34, 55]\n"
          ]
        }
      ]
    }
  ]
}