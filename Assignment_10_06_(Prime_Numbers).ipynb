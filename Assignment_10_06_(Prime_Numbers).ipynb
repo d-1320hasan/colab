{
  "nbformat": 4,
  "nbformat_minor": 0,
  "metadata": {
    "colab": {
      "name": "Assignment - 10/06 (Prime Numbers)",
      "provenance": [],
      "authorship_tag": "ABX9TyMUOFaDDbYdkjO8gO/nw4iT",
      "include_colab_link": true
    },
    "kernelspec": {
      "name": "python3",
      "display_name": "Python 3"
    },
    "language_info": {
      "name": "python"
    }
  },
  "cells": [
    {
      "cell_type": "markdown",
      "metadata": {
        "id": "view-in-github",
        "colab_type": "text"
      },
      "source": [
        "<a href=\"https://colab.research.google.com/github/d-1320hasan/python-assignments/blob/main/Assignment_10_06_(Prime_Numbers).ipynb\" target=\"_parent\"><img src=\"https://colab.research.google.com/assets/colab-badge.svg\" alt=\"Open In Colab\"/></a>"
      ]
    },
    {
      "cell_type": "code",
      "metadata": {
        "colab": {
          "base_uri": "https://localhost:8080/"
        },
        "id": "RPOQC0msd8zT",
        "outputId": "8a59db67-f672-4e52-b412-ee5b3d90e70d"
      },
      "source": [
        "\n",
        "sayı =int(input(\"sayı gir\"))\n",
        "liste=[1]\n",
        "for a in range(2,sayı + 1):\n",
        "       for i in range(2,a):\n",
        "           if (a % i) == 0:\n",
        "               break\n",
        "       else:\n",
        "              liste += [a]\n",
        "print(liste)"
      ],
      "execution_count": 36,
      "outputs": [
        {
          "output_type": "stream",
          "name": "stdout",
          "text": [
            "sayı gir10\n",
            "[1, 2, 3, 5, 7]\n"
          ]
        }
      ]
    },
    {
      "cell_type": "code",
      "metadata": {
        "id": "dpY_f0FHgB3J"
      },
      "source": [
        ""
      ],
      "execution_count": null,
      "outputs": []
    }
  ]
}