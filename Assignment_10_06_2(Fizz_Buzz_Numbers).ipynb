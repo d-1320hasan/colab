{
  "nbformat": 4,
  "nbformat_minor": 0,
  "metadata": {
    "colab": {
      "name": "Assignment - 10/06 (Fizz - Buzz Numbers)",
      "provenance": [],
      "authorship_tag": "ABX9TyPqgaTHe/BUtFjeeKJnNoIc",
      "include_colab_link": true
    },
    "kernelspec": {
      "name": "python3",
      "display_name": "Python 3"
    },
    "language_info": {
      "name": "python"
    }
  },
  "cells": [
    {
      "cell_type": "markdown",
      "metadata": {
        "id": "view-in-github",
        "colab_type": "text"
      },
      "source": [
        "<a href=\"https://colab.research.google.com/github/d-1320hasan/python-assignments/blob/main/Assignment_10_06_2(Fizz_Buzz_Numbers).ipynb\" target=\"_parent\"><img src=\"https://colab.research.google.com/assets/colab-badge.svg\" alt=\"Open In Colab\"/></a>"
      ]
    },
    {
      "cell_type": "markdown",
      "metadata": {
        "id": "mQWAYT8M7ods"
      },
      "source": [
        "Görev : Fizz Buzz numaralarını yazdırın. Fizz Buzz, temel programlama becerilerini test etmek için röportajlarda kullanılan ünlü bir kod mücadelesidir. Kendi uygulamanızı yazmanın zamanı geldi. 1'den 100'e kadar olan sayıları şu yönergeleri izleyerek yazdırın: bir sayı 3'ün katıysa, bu sayı yerine 'Fizz' yazın, sayı 5'in katıysa, katları olan sayılar için bu sayı yerine 'Buzz' yazın hem 3 hem de 5'ten 'FizzBuzz' yazdırın, kalan sayıları değiştirmeden yazdırın. Her değeri ayrı bir satırda çıktılayın. Not: Bu soru internette meşhurdur, bu yüzden bu ödevden daha fazla yararlanmak için bu görevi kendi başınıza tamamlamaya çalışın."
      ]
    },
    {
      "cell_type": "code",
      "metadata": {
        "id": "E3wO-ajq704Y"
      },
      "source": [
        "\n",
        "for i in range(1,101):\n",
        "  if i%3==0 and i%5==0:\n",
        "    print(\"FizzBuzz\")\n",
        "  elif i%3==0:\n",
        "    print(\"Fizz\")\n",
        "  elif i%5 == 0:\n",
        "    print(\"Buzz\")\n",
        "  else:\n",
        "    print(i)"
      ],
      "execution_count": null,
      "outputs": []
    },
    {
      "cell_type": "code",
      "metadata": {
        "colab": {
          "base_uri": "https://localhost:8080/"
        },
        "id": "Yw5a1k8GDFod",
        "outputId": "501b6bbc-1298-4823-feda-04c05e4f3940"
      },
      "source": [
        "liste=[]\n",
        "for i in range(1,101):\n",
        "  if i%3==0 and i%5==0:\n",
        "    liste.append(\"FizzBuzz\")\n",
        "  elif i%3==0:\n",
        "      liste.append(\"Fizz\")\n",
        "  elif i%5 == 0:\n",
        "   liste.append(\"Buzz\")\n",
        "  else:\n",
        "   liste.append(i)\n",
        "print(liste)"
      ],
      "execution_count": 13,
      "outputs": [
        {
          "output_type": "stream",
          "name": "stdout",
          "text": [
            "[1, 2, 'Fizz', 4, 'Buzz', 'Fizz', 7, 8, 'Fizz', 'Buzz', 11, 'Fizz', 13, 14, 'FizzBuzz', 16, 17, 'Fizz', 19, 'Buzz', 'Fizz', 22, 23, 'Fizz', 'Buzz', 26, 'Fizz', 28, 29, 'FizzBuzz', 31, 32, 'Fizz', 34, 'Buzz', 'Fizz', 37, 38, 'Fizz', 'Buzz', 41, 'Fizz', 43, 44, 'FizzBuzz', 46, 47, 'Fizz', 49, 'Buzz', 'Fizz', 52, 53, 'Fizz', 'Buzz', 56, 'Fizz', 58, 59, 'FizzBuzz', 61, 62, 'Fizz', 64, 'Buzz', 'Fizz', 67, 68, 'Fizz', 'Buzz', 71, 'Fizz', 73, 74, 'FizzBuzz', 76, 77, 'Fizz', 79, 'Buzz', 'Fizz', 82, 83, 'Fizz', 'Buzz', 86, 'Fizz', 88, 89, 'FizzBuzz', 91, 92, 'Fizz', 94, 'Buzz', 'Fizz', 97, 98, 'Fizz', 'Buzz']\n"
          ]
        }
      ]
    }
  ]
}