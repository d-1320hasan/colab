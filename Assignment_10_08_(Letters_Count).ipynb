{
  "nbformat": 4,
  "nbformat_minor": 0,
  "metadata": {
    "colab": {
      "name": "Assignment - 10/08 (Letters Count)",
      "provenance": [],
      "collapsed_sections": [],
      "authorship_tag": "ABX9TyO9R4wxZfwDQZG42Nq2HFp/",
      "include_colab_link": true
    },
    "kernelspec": {
      "name": "python3",
      "display_name": "Python 3"
    },
    "language_info": {
      "name": "python"
    }
  },
  "cells": [
    {
      "cell_type": "markdown",
      "metadata": {
        "id": "view-in-github",
        "colab_type": "text"
      },
      "source": [
        "<a href=\"https://colab.research.google.com/github/d-1320hasan/python-assignments/blob/main/Assignment_10_08_(Letters_Count).ipynb\" target=\"_parent\"><img src=\"https://colab.research.google.com/assets/colab-badge.svg\" alt=\"Open In Colab\"/></a>"
      ]
    },
    {
      "cell_type": "code",
      "execution_count": null,
      "metadata": {
        "id": "IbnF2iVSvC5X"
      },
      "outputs": [],
      "source": [
        ""
      ]
    },
    {
      "cell_type": "markdown",
      "source": [
        "Bir cümledeki her harfin sayısını sayın. Çalıştığınız departman kelime/metin analizi yapan bir proje yapımını üstlenmiştir. Bu proje kapsamında girilen cümlelerdeki harf veya karakter sayısını hesaplamanız istenmektedir. Bir Python programı yazın; kullanıcıdan bir cümle alır, cümlenin her harfini sayar, harfleri/karakterleri anahtar olarak, sayılan sayıları ise bir sözlükte değer olarak toplar.\n",
        "\n",
        "Count the number of each letter in a sentence.\n",
        "The department you work for undertook a project construction that makes word / text analysis. You are asked to calculate the number of letters or any chars in the sentences entered under this project.\n",
        "Write a Python program that;\n",
        "takes a sentence from the user,\n",
        "counts the number of each letter of the sentence,\n",
        "collects the letters/chars as a key and the counted numbers as a value in a dictionary.\n",
        "\n",
        "\n"
      ],
      "metadata": {
        "id": "w06SCeunvDyo"
      }
    },
    {
      "cell_type": "code",
      "source": [
        "cümle = input(\"cümleyi giriniz\")\n",
        "cümle_son=[]\n",
        "for i in cümle:\n",
        "  if i!= ' ':\n",
        "    cümle_son.append(i)\n",
        "liste= dict()\n",
        "cümle1= set(cümle_son)\n",
        "for i in cümle1:\n",
        "  x =cümle_son.count(i)\n",
        "  liste[i]=x\n",
        "print(liste)\n",
        "\n"
      ],
      "metadata": {
        "id": "AMLh4jI8vNW_"
      },
      "execution_count": null,
      "outputs": []
    },
    {
      "cell_type": "code",
      "source": [
        ""
      ],
      "metadata": {
        "id": "ACilRZj98Wp_"
      },
      "execution_count": null,
      "outputs": []
    }
  ]
}