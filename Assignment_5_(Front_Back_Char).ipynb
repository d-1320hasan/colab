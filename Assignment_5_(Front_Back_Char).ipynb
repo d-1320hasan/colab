{
  "nbformat": 4,
  "nbformat_minor": 0,
  "metadata": {
    "colab": {
      "name": "Assignment - 5 (Front-Back Char)",
      "provenance": [],
      "authorship_tag": "ABX9TyPYsIRD7CxqFOoITiaQWNw2",
      "include_colab_link": true
    },
    "kernelspec": {
      "name": "python3",
      "display_name": "Python 3"
    },
    "language_info": {
      "name": "python"
    }
  },
  "cells": [
    {
      "cell_type": "markdown",
      "metadata": {
        "id": "view-in-github",
        "colab_type": "text"
      },
      "source": [
        "<a href=\"https://colab.research.google.com/github/d-1320hasan/python-assignments/blob/main/Assignment_5_(Front_Back_Char).ipynb\" target=\"_parent\"><img src=\"https://colab.research.google.com/assets/colab-badge.svg\" alt=\"Open In Colab\"/></a>"
      ]
    },
    {
      "cell_type": "code",
      "execution_count": null,
      "metadata": {
        "id": "JmuEF1Nrv7s-"
      },
      "outputs": [],
      "source": [
        ""
      ]
    },
    {
      "cell_type": "markdown",
      "source": [
        "print(front_back('clarusway'))   ylaruswac,\n",
        "print(front_back('a'))   a,\n",
        "print(front_back('ab'))   ba"
      ],
      "metadata": {
        "id": "hfjrb_aXwCoT"
      }
    },
    {
      "cell_type": "code",
      "source": [
        "def front_back(word):\n",
        "  liste =\"\"\n",
        "  if len(word)==1:\n",
        "    print(word)\n",
        "  else:\n",
        "    liste += word[-1]\n",
        "    liste +=  word[1:len(word)-1]\n",
        "    liste += word[0]\n",
        "    print(liste)\n",
        "\n",
        "\n",
        "    \n",
        "  \n",
        "   "
      ],
      "metadata": {
        "id": "PCCuvY5BwI6d"
      },
      "execution_count": 47,
      "outputs": []
    },
    {
      "cell_type": "code",
      "source": [
        "front_back(\"emel\")"
      ],
      "metadata": {
        "colab": {
          "base_uri": "https://localhost:8080/"
        },
        "id": "d-0lQ_IOy9jk",
        "outputId": "473384db-6042-4c5c-cdce-99f9a09c87e0"
      },
      "execution_count": 50,
      "outputs": [
        {
          "output_type": "stream",
          "name": "stdout",
          "text": [
            "lmee\n"
          ]
        }
      ]
    }
  ]
}